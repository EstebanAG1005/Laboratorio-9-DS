{
 "cells": [
  {
   "cell_type": "markdown",
   "id": "ab6303c3",
   "metadata": {},
   "source": [
    "## Laboratorio de Visualización de Datos\n",
    "\n",
    "Este notebook contiene el análisis y las visualizaciones discutidas para el laboratorio sobre emisiones de sistemas de alimentos."
   ]
  },
  {
   "cell_type": "code",
   "execution_count": null,
   "id": "0482805b",
   "metadata": {},
   "outputs": [],
   "source": [
    "import pandas as pd\n",
    "import matplotlib.pyplot as plt\n",
    "import seaborn as sns"
   ]
  },
  {
   "cell_type": "markdown",
   "id": "57cc6925",
   "metadata": {},
   "source": [
    "### Carga y Exploración de Datos"
   ]
  },
  {
   "cell_type": "code",
   "execution_count": null,
   "id": "fdf8cd6b",
   "metadata": {},
   "outputs": [],
   "source": [
    "data = pd.read_csv('/ruta/del/archivo/Food Share Emissions.csv')\n",
    "data.head()"
   ]
  },
  {
   "cell_type": "markdown",
   "id": "b3fd68cb",
   "metadata": {},
   "source": [
    "### Análisis por Países"
   ]
  },
  {
   "cell_type": "code",
   "execution_count": null,
   "id": "72a10913",
   "metadata": {},
   "outputs": [],
   "source": [
    "latest_year = data['Year'].max()\n",
    "data_latest = data[data['Year'] == latest_year]\n",
    "top_countries = data_latest.sort_values(by=\"Food's share of total emissions (incl. LULUFC)\", ascending=False).head(10)\n",
    "plt.figure(figsize=(12, 7))\n",
    "sns.barplot(x=\"Food's share of total emissions (incl. LULUFC)\", y='Entity', data=top_countries, palette='viridis')\n",
    "plt.title(f\"Top 10 países con mayor proporción de emisiones de sistemas de alimentos en {latest_year}\")\n",
    "plt.xlabel(\"Proporción de emisiones de sistemas de alimentos (%)\")\n",
    "plt.ylabel(\"Países\")\n",
    "plt.show()"
   ]
  },
  {
   "cell_type": "code",
   "execution_count": null,
   "id": "eb81860f",
   "metadata": {},
   "outputs": [],
   "source": [
    "top_countries_data = data[data['Entity'].isin(top_countries['Entity'])]\n",
    "plt.figure(figsize=(15, 8))\n",
    "sns.lineplot(data=top_countries_data, x='Year', y=\"Food's share of total emissions (incl. LULUFC)\", hue='Entity', marker=\"o\")\n",
    "plt.title(\"Evolución de la proporción de emisiones de sistemas de alimentos de los 10 países principales\")\n",
    "plt.xlabel(\"Año\")\n",
    "plt.ylabel(\"Proporción de emisiones de sistemas de alimentos (%)\")\n",
    "plt.legend(title=\"Países\", bbox_to_anchor=(1.05, 1), loc='upper left')\n",
    "plt.grid(True, which=\"both\", ls=\"--\", c='0.7')\n",
    "plt.tight_layout()\n",
    "plt.show()"
   ]
  },
  {
   "cell_type": "markdown",
   "id": "5ce10c3f",
   "metadata": {},
   "source": [
    "### Análisis por Continentes"
   ]
  },
  {
   "cell_type": "code",
   "execution_count": null,
   "id": "ce7bff22",
   "metadata": {},
   "outputs": [],
   "source": [
    "continent_mapping = {\n",
    "... (aquí irá todo el mapeo de países a continentes) ...\n",
    "}\n",
    "data[\"Continent\"] = data[\"Entity\"].map({country: continent for continent, countries in continent_mapping.items() for country in countries})\n",
    "data_continents = data.dropna(subset=[\"Continent\"])\n",
    "data_continents.head()"
   ]
  },
  {
   "cell_type": "code",
   "execution_count": null,
   "id": "dc0cea03",
   "metadata": {},
   "outputs": [],
   "source": [
    "continent_average = data_continents.groupby(['Continent', 'Year']).mean().reset_index()\n",
    "plt.figure(figsize=(15, 8))\n",
    "sns.lineplot(data=continent_average, x='Year', y=\"Food's share of total emissions (incl. LULUFC)\", hue='Continent', marker=\"o\")\n",
    "plt.title(\"Evolución promedio de la proporción de emisiones de sistemas de alimentos por continente\")\n",
    "plt.xlabel(\"Año\")\n",
    "plt.ylabel(\"Proporción de emisiones de sistemas de alimentos (%)\")\n",
    "plt.legend(title=\"Continentes\", bbox_to_anchor=(1.05, 1), loc='upper left')\n",
    "plt.grid(True, which=\"both\", ls=\"--\", c='0.7')\n",
    "plt.tight_layout()\n",
    "plt.show()"
   ]
  },
  {
   "cell_type": "code",
   "execution_count": null,
   "id": "7415c7a3",
   "metadata": {},
   "outputs": [],
   "source": [
    "asia_data = data_continents[data_continents['Continent'] == 'Asia']\n",
    "plt.figure(figsize=(15, 8))\n",
    "sns.lineplot(data=asia_data, x='Year', y=\"Food's share of total emissions (incl. LULUFC)\", hue='Entity', marker=\"o\")\n",
    "plt.title(\"Evolución de la proporción de emisiones de sistemas de alimentos en Asia\")\n",
    "plt.xlabel(\"Año\")\n",
    "plt.ylabel(\"Proporción de emisiones de sistemas de alimentos (%)\")\n",
    "plt.legend(title=\"Países\", bbox_to_anchor=(1.05, 1), loc='upper left')\n",
    "plt.grid(True, which=\"both\", ls=\"--\", c='0.7')\n",
    "plt.tight_layout()\n",
    "plt.show()"
   ]
  }
 ],
 "metadata": {},
 "nbformat": 4,
 "nbformat_minor": 5
}
